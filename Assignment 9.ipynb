{
 "cells": [
  {
   "cell_type": "code",
   "execution_count": 3,
   "metadata": {},
   "outputs": [],
   "source": [
    "import numpy as np\n",
    "import pandas as pd\n",
    "data=pd.read_csv('matches - matches.csv')\n",
    "k=data.drop_duplicates([\"season\"],keep='last')[['season','team1','team2']].sort_values('season')\n",
    "\n"
   ]
  },
  {
   "cell_type": "code",
   "execution_count": 5,
   "metadata": {},
   "outputs": [
    {
     "data": {
      "text/html": [
       "<div>\n",
       "<style scoped>\n",
       "    .dataframe tbody tr th:only-of-type {\n",
       "        vertical-align: middle;\n",
       "    }\n",
       "\n",
       "    .dataframe tbody tr th {\n",
       "        vertical-align: top;\n",
       "    }\n",
       "\n",
       "    .dataframe thead th {\n",
       "        text-align: right;\n",
       "    }\n",
       "</style>\n",
       "<table border=\"1\" class=\"dataframe\">\n",
       "  <thead>\n",
       "    <tr style=\"text-align: right;\">\n",
       "      <th></th>\n",
       "      <th>season</th>\n",
       "      <th>team1</th>\n",
       "      <th>team2</th>\n",
       "    </tr>\n",
       "  </thead>\n",
       "  <tbody>\n",
       "    <tr>\n",
       "      <th>116</th>\n",
       "      <td>2008</td>\n",
       "      <td>Chennai Super Kings</td>\n",
       "      <td>Rajasthan Royals</td>\n",
       "    </tr>\n",
       "    <tr>\n",
       "      <th>173</th>\n",
       "      <td>2009</td>\n",
       "      <td>Deccan Chargers</td>\n",
       "      <td>Royal Challengers Bangalore</td>\n",
       "    </tr>\n",
       "    <tr>\n",
       "      <th>233</th>\n",
       "      <td>2010</td>\n",
       "      <td>Chennai Super Kings</td>\n",
       "      <td>Mumbai Indians</td>\n",
       "    </tr>\n",
       "    <tr>\n",
       "      <th>306</th>\n",
       "      <td>2011</td>\n",
       "      <td>Chennai Super Kings</td>\n",
       "      <td>Royal Challengers Bangalore</td>\n",
       "    </tr>\n",
       "    <tr>\n",
       "      <th>380</th>\n",
       "      <td>2012</td>\n",
       "      <td>Chennai Super Kings</td>\n",
       "      <td>Kolkata Knight Riders</td>\n",
       "    </tr>\n",
       "    <tr>\n",
       "      <th>456</th>\n",
       "      <td>2013</td>\n",
       "      <td>Mumbai Indians</td>\n",
       "      <td>Chennai Super Kings</td>\n",
       "    </tr>\n",
       "    <tr>\n",
       "      <th>516</th>\n",
       "      <td>2014</td>\n",
       "      <td>Kings XI Punjab</td>\n",
       "      <td>Kolkata Knight Riders</td>\n",
       "    </tr>\n",
       "    <tr>\n",
       "      <th>575</th>\n",
       "      <td>2015</td>\n",
       "      <td>Mumbai Indians</td>\n",
       "      <td>Chennai Super Kings</td>\n",
       "    </tr>\n",
       "    <tr>\n",
       "      <th>635</th>\n",
       "      <td>2016</td>\n",
       "      <td>Sunrisers Hyderabad</td>\n",
       "      <td>Royal Challengers Bangalore</td>\n",
       "    </tr>\n",
       "    <tr>\n",
       "      <th>58</th>\n",
       "      <td>2017</td>\n",
       "      <td>Mumbai Indians</td>\n",
       "      <td>Rising Pune Supergiant</td>\n",
       "    </tr>\n",
       "  </tbody>\n",
       "</table>\n",
       "</div>"
      ],
      "text/plain": [
       "     season                team1                        team2\n",
       "116    2008  Chennai Super Kings             Rajasthan Royals\n",
       "173    2009      Deccan Chargers  Royal Challengers Bangalore\n",
       "233    2010  Chennai Super Kings               Mumbai Indians\n",
       "306    2011  Chennai Super Kings  Royal Challengers Bangalore\n",
       "380    2012  Chennai Super Kings        Kolkata Knight Riders\n",
       "456    2013       Mumbai Indians          Chennai Super Kings\n",
       "516    2014      Kings XI Punjab        Kolkata Knight Riders\n",
       "575    2015       Mumbai Indians          Chennai Super Kings\n",
       "635    2016  Sunrisers Hyderabad  Royal Challengers Bangalore\n",
       "58     2017       Mumbai Indians       Rising Pune Supergiant"
      ]
     },
     "execution_count": 5,
     "metadata": {},
     "output_type": "execute_result"
    }
   ],
   "source": [
    "k # team those has played the final\n",
    "\n"
   ]
  },
  {
   "cell_type": "code",
   "execution_count": 8,
   "metadata": {},
   "outputs": [
    {
     "data": {
      "text/plain": [
       "116            Chennai Super Kings\n",
       "173                Deccan Chargers\n",
       "233            Chennai Super Kings\n",
       "306            Chennai Super Kings\n",
       "380            Chennai Super Kings\n",
       "456                 Mumbai Indians\n",
       "516                Kings XI Punjab\n",
       "575                 Mumbai Indians\n",
       "635            Sunrisers Hyderabad\n",
       "58                  Mumbai Indians\n",
       "116               Rajasthan Royals\n",
       "173    Royal Challengers Bangalore\n",
       "233                 Mumbai Indians\n",
       "306    Royal Challengers Bangalore\n",
       "380          Kolkata Knight Riders\n",
       "456            Chennai Super Kings\n",
       "516          Kolkata Knight Riders\n",
       "575            Chennai Super Kings\n",
       "635    Royal Challengers Bangalore\n",
       "58          Rising Pune Supergiant\n",
       "dtype: object"
      ]
     },
     "execution_count": 8,
     "metadata": {},
     "output_type": "execute_result"
    }
   ],
   "source": [
    "# Now finding out total team as there are two team team1 and team 2 so we have add both the team\n",
    "# for doing i ve used append function\n",
    "\n",
    "l=k.team1.append(k.team2)\n",
    "l"
   ]
  },
  {
   "cell_type": "code",
   "execution_count": 9,
   "metadata": {},
   "outputs": [
    {
     "data": {
      "text/plain": [
       "Chennai Super Kings            6\n",
       "Mumbai Indians                 4\n",
       "Royal Challengers Bangalore    3\n",
       "Kolkata Knight Riders          2\n",
       "Kings XI Punjab                1\n",
       "Rising Pune Supergiant         1\n",
       "Rajasthan Royals               1\n",
       "Deccan Chargers                1\n",
       "Sunrisers Hyderabad            1\n",
       "dtype: int64"
      ]
     },
     "execution_count": 9,
     "metadata": {},
     "output_type": "execute_result"
    }
   ],
   "source": [
    "##now counting total number of the played final \n",
    "# for doing i used value_counts() fn.\n",
    "\n",
    "l.value_counts()"
   ]
  },
  {
   "cell_type": "code",
   "execution_count": 10,
   "metadata": {},
   "outputs": [
    {
     "data": {
      "text/plain": [
       "Chennai Super Kings            6\n",
       "Mumbai Indians                 4\n",
       "Royal Challengers Bangalore    3\n",
       "dtype: int64"
      ]
     },
     "execution_count": 10,
     "metadata": {},
     "output_type": "execute_result"
    }
   ],
   "source": [
    "## as per question we require only top three team so i will use head fn.\n",
    "\n",
    "l.value_counts().head(3)"
   ]
  },
  {
   "cell_type": "code",
   "execution_count": null,
   "metadata": {},
   "outputs": [],
   "source": []
  }
 ],
 "metadata": {
  "kernelspec": {
   "display_name": "Python 3",
   "language": "python",
   "name": "python3"
  },
  "language_info": {
   "codemirror_mode": {
    "name": "ipython",
    "version": 3
   },
   "file_extension": ".py",
   "mimetype": "text/x-python",
   "name": "python",
   "nbconvert_exporter": "python",
   "pygments_lexer": "ipython3",
   "version": "3.7.1"
  }
 },
 "nbformat": 4,
 "nbformat_minor": 2
}
